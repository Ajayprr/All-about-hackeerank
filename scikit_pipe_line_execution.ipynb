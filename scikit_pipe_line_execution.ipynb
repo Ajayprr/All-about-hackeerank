{
  "nbformat": 4,
  "nbformat_minor": 0,
  "metadata": {
    "kernelspec": {
      "display_name": "Python 3",
      "language": "python",
      "name": "python3"
    },
    "language_info": {
      "codemirror_mode": {
        "name": "ipython",
        "version": 3
      },
      "file_extension": ".py",
      "mimetype": "text/x-python",
      "name": "python",
      "nbconvert_exporter": "python",
      "pygments_lexer": "ipython3",
      "version": "3.7.4"
    },
    "colab": {
      "name": "scikit pipe-line execution",
      "provenance": [],
      "include_colab_link": true
    }
  },
  "cells": [
    {
      "cell_type": "markdown",
      "metadata": {
        "id": "view-in-github",
        "colab_type": "text"
      },
      "source": [
        "<a href=\"https://colab.research.google.com/github/Ajayprr/All-about-hackeerank/blob/master/scikit_pipe_line_execution.ipynb\" target=\"_parent\"><img src=\"https://colab.research.google.com/assets/colab-badge.svg\" alt=\"Open In Colab\"/></a>"
      ]
    },
    {
      "cell_type": "code",
      "metadata": {
        "id": "AV66G5bAOpZt",
        "colab_type": "code",
        "colab": {}
      },
      "source": [
        "import pandas as pd\n",
        "from sklearn.svm import SVC\n",
        "from sklearn.model_selection import train_test_split\n",
        "from sklearn.model_selection import GridSearchCV\n",
        "import numpy as np"
      ],
      "execution_count": 0,
      "outputs": []
    },
    {
      "cell_type": "code",
      "metadata": {
        "id": "5P1g35I-OpZy",
        "colab_type": "code",
        "colab": {}
      },
      "source": [
        "data=pd.read_excel(\"/content/nifty50stocks1.xlsx\")"
      ],
      "execution_count": 0,
      "outputs": []
    },
    {
      "cell_type": "code",
      "metadata": {
        "id": "Wy8T4AowOpZ1",
        "colab_type": "code",
        "outputId": "575357ee-c8cf-4bc7-cf01-2d037eeb20f3",
        "colab": {
          "base_uri": "https://localhost:8080/",
          "height": 455
        }
      },
      "source": [
        "data"
      ],
      "execution_count": 0,
      "outputs": [
        {
          "output_type": "execute_result",
          "data": {
            "text/html": [
              "<div>\n",
              "<style scoped>\n",
              "    .dataframe tbody tr th:only-of-type {\n",
              "        vertical-align: middle;\n",
              "    }\n",
              "\n",
              "    .dataframe tbody tr th {\n",
              "        vertical-align: top;\n",
              "    }\n",
              "\n",
              "    .dataframe thead th {\n",
              "        text-align: right;\n",
              "    }\n",
              "</style>\n",
              "<table border=\"1\" class=\"dataframe\">\n",
              "  <thead>\n",
              "    <tr style=\"text-align: right;\">\n",
              "      <th></th>\n",
              "      <th>Symbol</th>\n",
              "      <th>Open</th>\n",
              "      <th>High</th>\n",
              "      <th>Low</th>\n",
              "      <th>Last Traded Price</th>\n",
              "      <th>Change</th>\n",
              "      <th>%Change</th>\n",
              "      <th>Traded Volume(lacs)</th>\n",
              "      <th>Traded Value(crs)</th>\n",
              "      <th>52 Week High</th>\n",
              "      <th>52 Week Low</th>\n",
              "      <th>365 Days % Change</th>\n",
              "      <th>30 Days % Change</th>\n",
              "      <th>target</th>\n",
              "    </tr>\n",
              "  </thead>\n",
              "  <tbody>\n",
              "    <tr>\n",
              "      <th>0</th>\n",
              "      <td>TCS</td>\n",
              "      <td>2079.50</td>\n",
              "      <td>2180.70</td>\n",
              "      <td>2063.60</td>\n",
              "      <td>2167.50</td>\n",
              "      <td>88.45</td>\n",
              "      <td>4.25</td>\n",
              "      <td>33.20</td>\n",
              "      <td>707.00</td>\n",
              "      <td>2296.20</td>\n",
              "      <td>1881.30</td>\n",
              "      <td>7.62</td>\n",
              "      <td>0.00</td>\n",
              "      <td>1</td>\n",
              "    </tr>\n",
              "    <tr>\n",
              "      <th>1</th>\n",
              "      <td>HINDUNILVR</td>\n",
              "      <td>2049.35</td>\n",
              "      <td>2096.00</td>\n",
              "      <td>2030.05</td>\n",
              "      <td>2074.00</td>\n",
              "      <td>39.75</td>\n",
              "      <td>1.95</td>\n",
              "      <td>26.66</td>\n",
              "      <td>553.01</td>\n",
              "      <td>2190.00</td>\n",
              "      <td>1650.00</td>\n",
              "      <td>17.62</td>\n",
              "      <td>7.10</td>\n",
              "      <td>1</td>\n",
              "    </tr>\n",
              "    <tr>\n",
              "      <th>2</th>\n",
              "      <td>NESTLEIND</td>\n",
              "      <td>15300.00</td>\n",
              "      <td>15661.75</td>\n",
              "      <td>15184.40</td>\n",
              "      <td>15619.95</td>\n",
              "      <td>260.50</td>\n",
              "      <td>1.70</td>\n",
              "      <td>0.42</td>\n",
              "      <td>65.12</td>\n",
              "      <td>15899.95</td>\n",
              "      <td>10031.65</td>\n",
              "      <td>35.85</td>\n",
              "      <td>5.69</td>\n",
              "      <td>1</td>\n",
              "    </tr>\n",
              "    <tr>\n",
              "      <th>3</th>\n",
              "      <td>TECHM</td>\n",
              "      <td>796.95</td>\n",
              "      <td>812.00</td>\n",
              "      <td>765.70</td>\n",
              "      <td>807.00</td>\n",
              "      <td>10.40</td>\n",
              "      <td>1.31</td>\n",
              "      <td>64.77</td>\n",
              "      <td>513.57</td>\n",
              "      <td>846.50</td>\n",
              "      <td>607.15</td>\n",
              "      <td>10.26</td>\n",
              "      <td>5.89</td>\n",
              "      <td>1</td>\n",
              "    </tr>\n",
              "    <tr>\n",
              "      <th>4</th>\n",
              "      <td>WIPRO</td>\n",
              "      <td>236.50</td>\n",
              "      <td>239.35</td>\n",
              "      <td>234.30</td>\n",
              "      <td>237.15</td>\n",
              "      <td>0.35</td>\n",
              "      <td>0.15</td>\n",
              "      <td>21.01</td>\n",
              "      <td>49.68</td>\n",
              "      <td>301.60</td>\n",
              "      <td>232.20</td>\n",
              "      <td>-35.77</td>\n",
              "      <td>-4.26</td>\n",
              "      <td>1</td>\n",
              "    </tr>\n",
              "    <tr>\n",
              "      <th>...</th>\n",
              "      <td>...</td>\n",
              "      <td>...</td>\n",
              "      <td>...</td>\n",
              "      <td>...</td>\n",
              "      <td>...</td>\n",
              "      <td>...</td>\n",
              "      <td>...</td>\n",
              "      <td>...</td>\n",
              "      <td>...</td>\n",
              "      <td>...</td>\n",
              "      <td>...</td>\n",
              "      <td>...</td>\n",
              "      <td>...</td>\n",
              "      <td>...</td>\n",
              "    </tr>\n",
              "    <tr>\n",
              "      <th>144</th>\n",
              "      <td>BHEL</td>\n",
              "      <td>42.70</td>\n",
              "      <td>43.55</td>\n",
              "      <td>39.20</td>\n",
              "      <td>39.85</td>\n",
              "      <td>-2.90</td>\n",
              "      <td>-6.78</td>\n",
              "      <td>172.32</td>\n",
              "      <td>71.65</td>\n",
              "      <td>78.85</td>\n",
              "      <td>39.20</td>\n",
              "      <td>-38.41</td>\n",
              "      <td>-8.39</td>\n",
              "      <td>0</td>\n",
              "    </tr>\n",
              "    <tr>\n",
              "      <th>145</th>\n",
              "      <td>LICHSGFIN</td>\n",
              "      <td>441.90</td>\n",
              "      <td>463.95</td>\n",
              "      <td>396.10</td>\n",
              "      <td>406.20</td>\n",
              "      <td>-31.50</td>\n",
              "      <td>-7.20</td>\n",
              "      <td>144.43</td>\n",
              "      <td>623.98</td>\n",
              "      <td>587.00</td>\n",
              "      <td>353.85</td>\n",
              "      <td>-9.50</td>\n",
              "      <td>-5.93</td>\n",
              "      <td>0</td>\n",
              "    </tr>\n",
              "    <tr>\n",
              "      <th>146</th>\n",
              "      <td>SUNTV</td>\n",
              "      <td>471.95</td>\n",
              "      <td>471.95</td>\n",
              "      <td>431.00</td>\n",
              "      <td>440.00</td>\n",
              "      <td>-34.55</td>\n",
              "      <td>-7.28</td>\n",
              "      <td>18.79</td>\n",
              "      <td>84.99</td>\n",
              "      <td>650.70</td>\n",
              "      <td>389.35</td>\n",
              "      <td>-17.00</td>\n",
              "      <td>0.10</td>\n",
              "      <td>0</td>\n",
              "    </tr>\n",
              "    <tr>\n",
              "      <th>147</th>\n",
              "      <td>GMRINFRA</td>\n",
              "      <td>22.65</td>\n",
              "      <td>23.25</td>\n",
              "      <td>20.95</td>\n",
              "      <td>21.00</td>\n",
              "      <td>-1.85</td>\n",
              "      <td>-8.10</td>\n",
              "      <td>168.54</td>\n",
              "      <td>37.74</td>\n",
              "      <td>25.00</td>\n",
              "      <td>12.95</td>\n",
              "      <td>38.16</td>\n",
              "      <td>0.48</td>\n",
              "      <td>1</td>\n",
              "    </tr>\n",
              "    <tr>\n",
              "      <th>148</th>\n",
              "      <td>MFSL</td>\n",
              "      <td>501.60</td>\n",
              "      <td>511.00</td>\n",
              "      <td>424.20</td>\n",
              "      <td>438.50</td>\n",
              "      <td>-67.90</td>\n",
              "      <td>-13.41</td>\n",
              "      <td>55.17</td>\n",
              "      <td>253.50</td>\n",
              "      <td>568.20</td>\n",
              "      <td>360.90</td>\n",
              "      <td>10.13</td>\n",
              "      <td>-19.13</td>\n",
              "      <td>0</td>\n",
              "    </tr>\n",
              "  </tbody>\n",
              "</table>\n",
              "<p>149 rows × 14 columns</p>\n",
              "</div>"
            ],
            "text/plain": [
              "         Symbol      Open  ...  30 Days % Change  target\n",
              "0           TCS   2079.50  ...              0.00       1\n",
              "1    HINDUNILVR   2049.35  ...              7.10       1\n",
              "2     NESTLEIND  15300.00  ...              5.69       1\n",
              "3         TECHM    796.95  ...              5.89       1\n",
              "4         WIPRO    236.50  ...             -4.26       1\n",
              "..          ...       ...  ...               ...     ...\n",
              "144        BHEL     42.70  ...             -8.39       0\n",
              "145   LICHSGFIN    441.90  ...             -5.93       0\n",
              "146       SUNTV    471.95  ...              0.10       0\n",
              "147    GMRINFRA     22.65  ...              0.48       1\n",
              "148        MFSL    501.60  ...            -19.13       0\n",
              "\n",
              "[149 rows x 14 columns]"
            ]
          },
          "metadata": {
            "tags": []
          },
          "execution_count": 4
        }
      ]
    },
    {
      "cell_type": "code",
      "metadata": {
        "id": "fTpS_I3WOpZ5",
        "colab_type": "code",
        "colab": {}
      },
      "source": [
        "from sklearn.preprocessing import LabelEncoder\n",
        "lab=LabelEncoder()"
      ],
      "execution_count": 0,
      "outputs": []
    },
    {
      "cell_type": "code",
      "metadata": {
        "id": "tqnDxQh7OpZ9",
        "colab_type": "code",
        "colab": {}
      },
      "source": [
        "data['Symbol']=lab.fit_transform(data['Symbol'])"
      ],
      "execution_count": 0,
      "outputs": []
    },
    {
      "cell_type": "code",
      "metadata": {
        "id": "XU9zZ9tUOpZ_",
        "colab_type": "code",
        "outputId": "cce455e9-7ec8-4e57-c3ec-8a6a12d0f4db",
        "colab": {
          "base_uri": "https://localhost:8080/",
          "height": 249
        }
      },
      "source": [
        "data.head()"
      ],
      "execution_count": 0,
      "outputs": [
        {
          "output_type": "execute_result",
          "data": {
            "text/html": [
              "<div>\n",
              "<style scoped>\n",
              "    .dataframe tbody tr th:only-of-type {\n",
              "        vertical-align: middle;\n",
              "    }\n",
              "\n",
              "    .dataframe tbody tr th {\n",
              "        vertical-align: top;\n",
              "    }\n",
              "\n",
              "    .dataframe thead th {\n",
              "        text-align: right;\n",
              "    }\n",
              "</style>\n",
              "<table border=\"1\" class=\"dataframe\">\n",
              "  <thead>\n",
              "    <tr style=\"text-align: right;\">\n",
              "      <th></th>\n",
              "      <th>Symbol</th>\n",
              "      <th>Open</th>\n",
              "      <th>High</th>\n",
              "      <th>Low</th>\n",
              "      <th>Last Traded Price</th>\n",
              "      <th>Change</th>\n",
              "      <th>%Change</th>\n",
              "      <th>Traded Volume(lacs)</th>\n",
              "      <th>Traded Value(crs)</th>\n",
              "      <th>52 Week High</th>\n",
              "      <th>52 Week Low</th>\n",
              "      <th>365 Days % Change</th>\n",
              "      <th>30 Days % Change</th>\n",
              "      <th>target</th>\n",
              "    </tr>\n",
              "  </thead>\n",
              "  <tbody>\n",
              "    <tr>\n",
              "      <th>0</th>\n",
              "      <td>134</td>\n",
              "      <td>2079.50</td>\n",
              "      <td>2180.70</td>\n",
              "      <td>2063.60</td>\n",
              "      <td>2167.50</td>\n",
              "      <td>88.45</td>\n",
              "      <td>4.25</td>\n",
              "      <td>33.20</td>\n",
              "      <td>707.00</td>\n",
              "      <td>2296.20</td>\n",
              "      <td>1881.30</td>\n",
              "      <td>7.62</td>\n",
              "      <td>0.00</td>\n",
              "      <td>1</td>\n",
              "    </tr>\n",
              "    <tr>\n",
              "      <th>1</th>\n",
              "      <td>64</td>\n",
              "      <td>2049.35</td>\n",
              "      <td>2096.00</td>\n",
              "      <td>2030.05</td>\n",
              "      <td>2074.00</td>\n",
              "      <td>39.75</td>\n",
              "      <td>1.95</td>\n",
              "      <td>26.66</td>\n",
              "      <td>553.01</td>\n",
              "      <td>2190.00</td>\n",
              "      <td>1650.00</td>\n",
              "      <td>17.62</td>\n",
              "      <td>7.10</td>\n",
              "      <td>1</td>\n",
              "    </tr>\n",
              "    <tr>\n",
              "      <th>2</th>\n",
              "      <td>102</td>\n",
              "      <td>15300.00</td>\n",
              "      <td>15661.75</td>\n",
              "      <td>15184.40</td>\n",
              "      <td>15619.95</td>\n",
              "      <td>260.50</td>\n",
              "      <td>1.70</td>\n",
              "      <td>0.42</td>\n",
              "      <td>65.12</td>\n",
              "      <td>15899.95</td>\n",
              "      <td>10031.65</td>\n",
              "      <td>35.85</td>\n",
              "      <td>5.69</td>\n",
              "      <td>1</td>\n",
              "    </tr>\n",
              "    <tr>\n",
              "      <th>3</th>\n",
              "      <td>135</td>\n",
              "      <td>796.95</td>\n",
              "      <td>812.00</td>\n",
              "      <td>765.70</td>\n",
              "      <td>807.00</td>\n",
              "      <td>10.40</td>\n",
              "      <td>1.31</td>\n",
              "      <td>64.77</td>\n",
              "      <td>513.57</td>\n",
              "      <td>846.50</td>\n",
              "      <td>607.15</td>\n",
              "      <td>10.26</td>\n",
              "      <td>5.89</td>\n",
              "      <td>1</td>\n",
              "    </tr>\n",
              "    <tr>\n",
              "      <th>4</th>\n",
              "      <td>146</td>\n",
              "      <td>236.50</td>\n",
              "      <td>239.35</td>\n",
              "      <td>234.30</td>\n",
              "      <td>237.15</td>\n",
              "      <td>0.35</td>\n",
              "      <td>0.15</td>\n",
              "      <td>21.01</td>\n",
              "      <td>49.68</td>\n",
              "      <td>301.60</td>\n",
              "      <td>232.20</td>\n",
              "      <td>-35.77</td>\n",
              "      <td>-4.26</td>\n",
              "      <td>1</td>\n",
              "    </tr>\n",
              "  </tbody>\n",
              "</table>\n",
              "</div>"
            ],
            "text/plain": [
              "   Symbol      Open      High  ...  365 Days % Change  30 Days % Change  target\n",
              "0     134   2079.50   2180.70  ...               7.62              0.00       1\n",
              "1      64   2049.35   2096.00  ...              17.62              7.10       1\n",
              "2     102  15300.00  15661.75  ...              35.85              5.69       1\n",
              "3     135    796.95    812.00  ...              10.26              5.89       1\n",
              "4     146    236.50    239.35  ...             -35.77             -4.26       1\n",
              "\n",
              "[5 rows x 14 columns]"
            ]
          },
          "metadata": {
            "tags": []
          },
          "execution_count": 7
        }
      ]
    },
    {
      "cell_type": "code",
      "metadata": {
        "id": "OkyjxYEROpaE",
        "colab_type": "code",
        "outputId": "9755fa24-44fe-4a34-b848-725ce9a6f6cb",
        "colab": {
          "base_uri": "https://localhost:8080/",
          "height": 321
        }
      },
      "source": [
        "data.describe()"
      ],
      "execution_count": 0,
      "outputs": [
        {
          "output_type": "execute_result",
          "data": {
            "text/html": [
              "<div>\n",
              "<style scoped>\n",
              "    .dataframe tbody tr th:only-of-type {\n",
              "        vertical-align: middle;\n",
              "    }\n",
              "\n",
              "    .dataframe tbody tr th {\n",
              "        vertical-align: top;\n",
              "    }\n",
              "\n",
              "    .dataframe thead th {\n",
              "        text-align: right;\n",
              "    }\n",
              "</style>\n",
              "<table border=\"1\" class=\"dataframe\">\n",
              "  <thead>\n",
              "    <tr style=\"text-align: right;\">\n",
              "      <th></th>\n",
              "      <th>Symbol</th>\n",
              "      <th>Open</th>\n",
              "      <th>High</th>\n",
              "      <th>Low</th>\n",
              "      <th>Last Traded Price</th>\n",
              "      <th>Change</th>\n",
              "      <th>%Change</th>\n",
              "      <th>Traded Volume(lacs)</th>\n",
              "      <th>Traded Value(crs)</th>\n",
              "      <th>52 Week High</th>\n",
              "      <th>52 Week Low</th>\n",
              "      <th>365 Days % Change</th>\n",
              "      <th>30 Days % Change</th>\n",
              "      <th>target</th>\n",
              "    </tr>\n",
              "  </thead>\n",
              "  <tbody>\n",
              "    <tr>\n",
              "      <th>count</th>\n",
              "      <td>149.000000</td>\n",
              "      <td>149.000000</td>\n",
              "      <td>149.000000</td>\n",
              "      <td>149.000000</td>\n",
              "      <td>149.000000</td>\n",
              "      <td>149.000000</td>\n",
              "      <td>149.000000</td>\n",
              "      <td>149.000000</td>\n",
              "      <td>149.000000</td>\n",
              "      <td>149.000000</td>\n",
              "      <td>149.000000</td>\n",
              "      <td>149.000000</td>\n",
              "      <td>149.000000</td>\n",
              "      <td>149.000000</td>\n",
              "    </tr>\n",
              "    <tr>\n",
              "      <th>mean</th>\n",
              "      <td>74.000000</td>\n",
              "      <td>1994.268792</td>\n",
              "      <td>2032.017114</td>\n",
              "      <td>1935.834228</td>\n",
              "      <td>1955.726510</td>\n",
              "      <td>-39.595302</td>\n",
              "      <td>-3.044027</td>\n",
              "      <td>73.481812</td>\n",
              "      <td>208.369597</td>\n",
              "      <td>2220.625235</td>\n",
              "      <td>1449.367517</td>\n",
              "      <td>2.528322</td>\n",
              "      <td>-2.615436</td>\n",
              "      <td>0.570470</td>\n",
              "    </tr>\n",
              "    <tr>\n",
              "      <th>std</th>\n",
              "      <td>43.156691</td>\n",
              "      <td>6675.061273</td>\n",
              "      <td>6762.727810</td>\n",
              "      <td>6527.604238</td>\n",
              "      <td>6572.298709</td>\n",
              "      <td>124.791620</td>\n",
              "      <td>2.746542</td>\n",
              "      <td>156.787727</td>\n",
              "      <td>290.258170</td>\n",
              "      <td>6989.930535</td>\n",
              "      <td>4886.727710</td>\n",
              "      <td>34.562442</td>\n",
              "      <td>8.474629</td>\n",
              "      <td>0.496679</td>\n",
              "    </tr>\n",
              "    <tr>\n",
              "      <th>min</th>\n",
              "      <td>0.000000</td>\n",
              "      <td>5.350000</td>\n",
              "      <td>5.550000</td>\n",
              "      <td>5.200000</td>\n",
              "      <td>5.250000</td>\n",
              "      <td>-837.850000</td>\n",
              "      <td>-13.410000</td>\n",
              "      <td>0.040000</td>\n",
              "      <td>5.910000</td>\n",
              "      <td>21.270000</td>\n",
              "      <td>2.400000</td>\n",
              "      <td>-82.560000</td>\n",
              "      <td>-19.130000</td>\n",
              "      <td>0.000000</td>\n",
              "    </tr>\n",
              "    <tr>\n",
              "      <th>25%</th>\n",
              "      <td>37.000000</td>\n",
              "      <td>187.650000</td>\n",
              "      <td>189.850000</td>\n",
              "      <td>182.800000</td>\n",
              "      <td>184.900000</td>\n",
              "      <td>-28.200000</td>\n",
              "      <td>-4.000000</td>\n",
              "      <td>7.150000</td>\n",
              "      <td>49.680000</td>\n",
              "      <td>244.000000</td>\n",
              "      <td>165.800000</td>\n",
              "      <td>-19.260000</td>\n",
              "      <td>-8.390000</td>\n",
              "      <td>0.000000</td>\n",
              "    </tr>\n",
              "    <tr>\n",
              "      <th>50%</th>\n",
              "      <td>74.000000</td>\n",
              "      <td>493.400000</td>\n",
              "      <td>501.250000</td>\n",
              "      <td>460.250000</td>\n",
              "      <td>465.350000</td>\n",
              "      <td>-10.150000</td>\n",
              "      <td>-2.890000</td>\n",
              "      <td>22.180000</td>\n",
              "      <td>85.380000</td>\n",
              "      <td>587.000000</td>\n",
              "      <td>353.850000</td>\n",
              "      <td>-1.060000</td>\n",
              "      <td>-2.310000</td>\n",
              "      <td>1.000000</td>\n",
              "    </tr>\n",
              "    <tr>\n",
              "      <th>75%</th>\n",
              "      <td>111.000000</td>\n",
              "      <td>1329.000000</td>\n",
              "      <td>1355.950000</td>\n",
              "      <td>1280.000000</td>\n",
              "      <td>1309.900000</td>\n",
              "      <td>-3.350000</td>\n",
              "      <td>-1.390000</td>\n",
              "      <td>71.550000</td>\n",
              "      <td>227.030000</td>\n",
              "      <td>1607.000000</td>\n",
              "      <td>1077.900000</td>\n",
              "      <td>23.330000</td>\n",
              "      <td>3.280000</td>\n",
              "      <td>1.000000</td>\n",
              "    </tr>\n",
              "    <tr>\n",
              "      <th>max</th>\n",
              "      <td>148.000000</td>\n",
              "      <td>69789.000000</td>\n",
              "      <td>70300.000000</td>\n",
              "      <td>68412.250000</td>\n",
              "      <td>68898.350000</td>\n",
              "      <td>260.500000</td>\n",
              "      <td>4.250000</td>\n",
              "      <td>1297.790000</td>\n",
              "      <td>1936.700000</td>\n",
              "      <td>70999.950000</td>\n",
              "      <td>51586.300000</td>\n",
              "      <td>124.420000</td>\n",
              "      <td>27.890000</td>\n",
              "      <td>1.000000</td>\n",
              "    </tr>\n",
              "  </tbody>\n",
              "</table>\n",
              "</div>"
            ],
            "text/plain": [
              "           Symbol          Open  ...  30 Days % Change      target\n",
              "count  149.000000    149.000000  ...        149.000000  149.000000\n",
              "mean    74.000000   1994.268792  ...         -2.615436    0.570470\n",
              "std     43.156691   6675.061273  ...          8.474629    0.496679\n",
              "min      0.000000      5.350000  ...        -19.130000    0.000000\n",
              "25%     37.000000    187.650000  ...         -8.390000    0.000000\n",
              "50%     74.000000    493.400000  ...         -2.310000    1.000000\n",
              "75%    111.000000   1329.000000  ...          3.280000    1.000000\n",
              "max    148.000000  69789.000000  ...         27.890000    1.000000\n",
              "\n",
              "[8 rows x 14 columns]"
            ]
          },
          "metadata": {
            "tags": []
          },
          "execution_count": 8
        }
      ]
    },
    {
      "cell_type": "code",
      "metadata": {
        "id": "w6x0t7yXOpaJ",
        "colab_type": "code",
        "outputId": "d7890afb-6543-4cdd-d462-4cf82f210dd2",
        "colab": {
          "base_uri": "https://localhost:8080/",
          "height": 455
        }
      },
      "source": [
        "data"
      ],
      "execution_count": 0,
      "outputs": [
        {
          "output_type": "execute_result",
          "data": {
            "text/html": [
              "<div>\n",
              "<style scoped>\n",
              "    .dataframe tbody tr th:only-of-type {\n",
              "        vertical-align: middle;\n",
              "    }\n",
              "\n",
              "    .dataframe tbody tr th {\n",
              "        vertical-align: top;\n",
              "    }\n",
              "\n",
              "    .dataframe thead th {\n",
              "        text-align: right;\n",
              "    }\n",
              "</style>\n",
              "<table border=\"1\" class=\"dataframe\">\n",
              "  <thead>\n",
              "    <tr style=\"text-align: right;\">\n",
              "      <th></th>\n",
              "      <th>Symbol</th>\n",
              "      <th>Open</th>\n",
              "      <th>High</th>\n",
              "      <th>Low</th>\n",
              "      <th>Last Traded Price</th>\n",
              "      <th>Change</th>\n",
              "      <th>%Change</th>\n",
              "      <th>Traded Volume(lacs)</th>\n",
              "      <th>Traded Value(crs)</th>\n",
              "      <th>52 Week High</th>\n",
              "      <th>52 Week Low</th>\n",
              "      <th>365 Days % Change</th>\n",
              "      <th>30 Days % Change</th>\n",
              "      <th>target</th>\n",
              "    </tr>\n",
              "  </thead>\n",
              "  <tbody>\n",
              "    <tr>\n",
              "      <th>0</th>\n",
              "      <td>134</td>\n",
              "      <td>2079.50</td>\n",
              "      <td>2180.70</td>\n",
              "      <td>2063.60</td>\n",
              "      <td>2167.50</td>\n",
              "      <td>88.45</td>\n",
              "      <td>4.25</td>\n",
              "      <td>33.20</td>\n",
              "      <td>707.00</td>\n",
              "      <td>2296.20</td>\n",
              "      <td>1881.30</td>\n",
              "      <td>7.62</td>\n",
              "      <td>0.00</td>\n",
              "      <td>1</td>\n",
              "    </tr>\n",
              "    <tr>\n",
              "      <th>1</th>\n",
              "      <td>64</td>\n",
              "      <td>2049.35</td>\n",
              "      <td>2096.00</td>\n",
              "      <td>2030.05</td>\n",
              "      <td>2074.00</td>\n",
              "      <td>39.75</td>\n",
              "      <td>1.95</td>\n",
              "      <td>26.66</td>\n",
              "      <td>553.01</td>\n",
              "      <td>2190.00</td>\n",
              "      <td>1650.00</td>\n",
              "      <td>17.62</td>\n",
              "      <td>7.10</td>\n",
              "      <td>1</td>\n",
              "    </tr>\n",
              "    <tr>\n",
              "      <th>2</th>\n",
              "      <td>102</td>\n",
              "      <td>15300.00</td>\n",
              "      <td>15661.75</td>\n",
              "      <td>15184.40</td>\n",
              "      <td>15619.95</td>\n",
              "      <td>260.50</td>\n",
              "      <td>1.70</td>\n",
              "      <td>0.42</td>\n",
              "      <td>65.12</td>\n",
              "      <td>15899.95</td>\n",
              "      <td>10031.65</td>\n",
              "      <td>35.85</td>\n",
              "      <td>5.69</td>\n",
              "      <td>1</td>\n",
              "    </tr>\n",
              "    <tr>\n",
              "      <th>3</th>\n",
              "      <td>135</td>\n",
              "      <td>796.95</td>\n",
              "      <td>812.00</td>\n",
              "      <td>765.70</td>\n",
              "      <td>807.00</td>\n",
              "      <td>10.40</td>\n",
              "      <td>1.31</td>\n",
              "      <td>64.77</td>\n",
              "      <td>513.57</td>\n",
              "      <td>846.50</td>\n",
              "      <td>607.15</td>\n",
              "      <td>10.26</td>\n",
              "      <td>5.89</td>\n",
              "      <td>1</td>\n",
              "    </tr>\n",
              "    <tr>\n",
              "      <th>4</th>\n",
              "      <td>146</td>\n",
              "      <td>236.50</td>\n",
              "      <td>239.35</td>\n",
              "      <td>234.30</td>\n",
              "      <td>237.15</td>\n",
              "      <td>0.35</td>\n",
              "      <td>0.15</td>\n",
              "      <td>21.01</td>\n",
              "      <td>49.68</td>\n",
              "      <td>301.60</td>\n",
              "      <td>232.20</td>\n",
              "      <td>-35.77</td>\n",
              "      <td>-4.26</td>\n",
              "      <td>1</td>\n",
              "    </tr>\n",
              "    <tr>\n",
              "      <th>...</th>\n",
              "      <td>...</td>\n",
              "      <td>...</td>\n",
              "      <td>...</td>\n",
              "      <td>...</td>\n",
              "      <td>...</td>\n",
              "      <td>...</td>\n",
              "      <td>...</td>\n",
              "      <td>...</td>\n",
              "      <td>...</td>\n",
              "      <td>...</td>\n",
              "      <td>...</td>\n",
              "      <td>...</td>\n",
              "      <td>...</td>\n",
              "      <td>...</td>\n",
              "    </tr>\n",
              "    <tr>\n",
              "      <th>144</th>\n",
              "      <td>24</td>\n",
              "      <td>42.70</td>\n",
              "      <td>43.55</td>\n",
              "      <td>39.20</td>\n",
              "      <td>39.85</td>\n",
              "      <td>-2.90</td>\n",
              "      <td>-6.78</td>\n",
              "      <td>172.32</td>\n",
              "      <td>71.65</td>\n",
              "      <td>78.85</td>\n",
              "      <td>39.20</td>\n",
              "      <td>-38.41</td>\n",
              "      <td>-8.39</td>\n",
              "      <td>0</td>\n",
              "    </tr>\n",
              "    <tr>\n",
              "      <th>145</th>\n",
              "      <td>84</td>\n",
              "      <td>441.90</td>\n",
              "      <td>463.95</td>\n",
              "      <td>396.10</td>\n",
              "      <td>406.20</td>\n",
              "      <td>-31.50</td>\n",
              "      <td>-7.20</td>\n",
              "      <td>144.43</td>\n",
              "      <td>623.98</td>\n",
              "      <td>587.00</td>\n",
              "      <td>353.85</td>\n",
              "      <td>-9.50</td>\n",
              "      <td>-5.93</td>\n",
              "      <td>0</td>\n",
              "    </tr>\n",
              "    <tr>\n",
              "      <th>146</th>\n",
              "      <td>129</td>\n",
              "      <td>471.95</td>\n",
              "      <td>471.95</td>\n",
              "      <td>431.00</td>\n",
              "      <td>440.00</td>\n",
              "      <td>-34.55</td>\n",
              "      <td>-7.28</td>\n",
              "      <td>18.79</td>\n",
              "      <td>84.99</td>\n",
              "      <td>650.70</td>\n",
              "      <td>389.35</td>\n",
              "      <td>-17.00</td>\n",
              "      <td>0.10</td>\n",
              "      <td>0</td>\n",
              "    </tr>\n",
              "    <tr>\n",
              "      <th>147</th>\n",
              "      <td>51</td>\n",
              "      <td>22.65</td>\n",
              "      <td>23.25</td>\n",
              "      <td>20.95</td>\n",
              "      <td>21.00</td>\n",
              "      <td>-1.85</td>\n",
              "      <td>-8.10</td>\n",
              "      <td>168.54</td>\n",
              "      <td>37.74</td>\n",
              "      <td>25.00</td>\n",
              "      <td>12.95</td>\n",
              "      <td>38.16</td>\n",
              "      <td>0.48</td>\n",
              "      <td>1</td>\n",
              "    </tr>\n",
              "    <tr>\n",
              "      <th>148</th>\n",
              "      <td>93</td>\n",
              "      <td>501.60</td>\n",
              "      <td>511.00</td>\n",
              "      <td>424.20</td>\n",
              "      <td>438.50</td>\n",
              "      <td>-67.90</td>\n",
              "      <td>-13.41</td>\n",
              "      <td>55.17</td>\n",
              "      <td>253.50</td>\n",
              "      <td>568.20</td>\n",
              "      <td>360.90</td>\n",
              "      <td>10.13</td>\n",
              "      <td>-19.13</td>\n",
              "      <td>0</td>\n",
              "    </tr>\n",
              "  </tbody>\n",
              "</table>\n",
              "<p>149 rows × 14 columns</p>\n",
              "</div>"
            ],
            "text/plain": [
              "     Symbol      Open      High  ...  365 Days % Change  30 Days % Change  target\n",
              "0       134   2079.50   2180.70  ...               7.62              0.00       1\n",
              "1        64   2049.35   2096.00  ...              17.62              7.10       1\n",
              "2       102  15300.00  15661.75  ...              35.85              5.69       1\n",
              "3       135    796.95    812.00  ...              10.26              5.89       1\n",
              "4       146    236.50    239.35  ...             -35.77             -4.26       1\n",
              "..      ...       ...       ...  ...                ...               ...     ...\n",
              "144      24     42.70     43.55  ...             -38.41             -8.39       0\n",
              "145      84    441.90    463.95  ...              -9.50             -5.93       0\n",
              "146     129    471.95    471.95  ...             -17.00              0.10       0\n",
              "147      51     22.65     23.25  ...              38.16              0.48       1\n",
              "148      93    501.60    511.00  ...              10.13            -19.13       0\n",
              "\n",
              "[149 rows x 14 columns]"
            ]
          },
          "metadata": {
            "tags": []
          },
          "execution_count": 9
        }
      ]
    },
    {
      "cell_type": "code",
      "metadata": {
        "id": "qiiW1CY9OpaN",
        "colab_type": "code",
        "outputId": "7e88b883-4c63-4fc2-fbaa-78e288f686db",
        "colab": {
          "base_uri": "https://localhost:8080/",
          "height": 281
        }
      },
      "source": [
        "data.dtypes"
      ],
      "execution_count": 0,
      "outputs": [
        {
          "output_type": "execute_result",
          "data": {
            "text/plain": [
              "Symbol                   int64\n",
              "Open                   float64\n",
              "High                   float64\n",
              "Low                    float64\n",
              "Last Traded Price      float64\n",
              "Change                 float64\n",
              "%Change                float64\n",
              "Traded Volume(lacs)    float64\n",
              "Traded Value(crs)      float64\n",
              "52 Week High           float64\n",
              "52 Week Low            float64\n",
              "365 Days % Change      float64\n",
              "30 Days % Change       float64\n",
              "target                   int64\n",
              "dtype: object"
            ]
          },
          "metadata": {
            "tags": []
          },
          "execution_count": 10
        }
      ]
    },
    {
      "cell_type": "code",
      "metadata": {
        "id": "gNHdIRomOpaR",
        "colab_type": "code",
        "colab": {}
      },
      "source": [
        "from sklearn import preprocessing\n",
        "label = preprocessing.MinMaxScaler()\n",
        "x = label.fit_transform(data)\n",
        "cols=data.columns\n",
        "x= pd.DataFrame(x,columns=cols)"
      ],
      "execution_count": 0,
      "outputs": []
    },
    {
      "cell_type": "code",
      "metadata": {
        "id": "WX7fY9aSOpaV",
        "colab_type": "code",
        "outputId": "edbcca7b-fbc8-4c9c-b7ac-3da0649a8c2e",
        "colab": {
          "base_uri": "https://localhost:8080/",
          "height": 455
        }
      },
      "source": [
        "x"
      ],
      "execution_count": 0,
      "outputs": [
        {
          "output_type": "execute_result",
          "data": {
            "text/html": [
              "<div>\n",
              "<style scoped>\n",
              "    .dataframe tbody tr th:only-of-type {\n",
              "        vertical-align: middle;\n",
              "    }\n",
              "\n",
              "    .dataframe tbody tr th {\n",
              "        vertical-align: top;\n",
              "    }\n",
              "\n",
              "    .dataframe thead th {\n",
              "        text-align: right;\n",
              "    }\n",
              "</style>\n",
              "<table border=\"1\" class=\"dataframe\">\n",
              "  <thead>\n",
              "    <tr style=\"text-align: right;\">\n",
              "      <th></th>\n",
              "      <th>Symbol</th>\n",
              "      <th>Open</th>\n",
              "      <th>High</th>\n",
              "      <th>Low</th>\n",
              "      <th>Last Traded Price</th>\n",
              "      <th>Change</th>\n",
              "      <th>%Change</th>\n",
              "      <th>Traded Volume(lacs)</th>\n",
              "      <th>Traded Value(crs)</th>\n",
              "      <th>52 Week High</th>\n",
              "      <th>52 Week Low</th>\n",
              "      <th>365 Days % Change</th>\n",
              "      <th>30 Days % Change</th>\n",
              "      <th>target</th>\n",
              "    </tr>\n",
              "  </thead>\n",
              "  <tbody>\n",
              "    <tr>\n",
              "      <th>0</th>\n",
              "      <td>0.905405</td>\n",
              "      <td>0.029723</td>\n",
              "      <td>0.030943</td>\n",
              "      <td>0.030090</td>\n",
              "      <td>0.031386</td>\n",
              "      <td>0.843356</td>\n",
              "      <td>1.000000</td>\n",
              "      <td>0.025552</td>\n",
              "      <td>0.363110</td>\n",
              "      <td>0.032051</td>\n",
              "      <td>0.036424</td>\n",
              "      <td>0.435694</td>\n",
              "      <td>0.406848</td>\n",
              "      <td>1.0</td>\n",
              "    </tr>\n",
              "    <tr>\n",
              "      <th>1</th>\n",
              "      <td>0.432432</td>\n",
              "      <td>0.029291</td>\n",
              "      <td>0.029738</td>\n",
              "      <td>0.029600</td>\n",
              "      <td>0.030028</td>\n",
              "      <td>0.799017</td>\n",
              "      <td>0.869762</td>\n",
              "      <td>0.020512</td>\n",
              "      <td>0.283356</td>\n",
              "      <td>0.030555</td>\n",
              "      <td>0.031940</td>\n",
              "      <td>0.484008</td>\n",
              "      <td>0.557848</td>\n",
              "      <td>1.0</td>\n",
              "    </tr>\n",
              "    <tr>\n",
              "      <th>2</th>\n",
              "      <td>0.689189</td>\n",
              "      <td>0.219172</td>\n",
              "      <td>0.222723</td>\n",
              "      <td>0.221895</td>\n",
              "      <td>0.226651</td>\n",
              "      <td>1.000000</td>\n",
              "      <td>0.855606</td>\n",
              "      <td>0.000293</td>\n",
              "      <td>0.030666</td>\n",
              "      <td>0.223711</td>\n",
              "      <td>0.194426</td>\n",
              "      <td>0.572084</td>\n",
              "      <td>0.527860</td>\n",
              "      <td>1.0</td>\n",
              "    </tr>\n",
              "    <tr>\n",
              "      <th>3</th>\n",
              "      <td>0.912162</td>\n",
              "      <td>0.011344</td>\n",
              "      <td>0.011472</td>\n",
              "      <td>0.011117</td>\n",
              "      <td>0.011638</td>\n",
              "      <td>0.772295</td>\n",
              "      <td>0.833522</td>\n",
              "      <td>0.049879</td>\n",
              "      <td>0.262929</td>\n",
              "      <td>0.011626</td>\n",
              "      <td>0.011724</td>\n",
              "      <td>0.448449</td>\n",
              "      <td>0.532114</td>\n",
              "      <td>1.0</td>\n",
              "    </tr>\n",
              "    <tr>\n",
              "      <th>4</th>\n",
              "      <td>0.986486</td>\n",
              "      <td>0.003312</td>\n",
              "      <td>0.003326</td>\n",
              "      <td>0.003349</td>\n",
              "      <td>0.003366</td>\n",
              "      <td>0.763145</td>\n",
              "      <td>0.767837</td>\n",
              "      <td>0.016159</td>\n",
              "      <td>0.022669</td>\n",
              "      <td>0.003949</td>\n",
              "      <td>0.004455</td>\n",
              "      <td>0.226060</td>\n",
              "      <td>0.316248</td>\n",
              "      <td>1.0</td>\n",
              "    </tr>\n",
              "    <tr>\n",
              "      <th>...</th>\n",
              "      <td>...</td>\n",
              "      <td>...</td>\n",
              "      <td>...</td>\n",
              "      <td>...</td>\n",
              "      <td>...</td>\n",
              "      <td>...</td>\n",
              "      <td>...</td>\n",
              "      <td>...</td>\n",
              "      <td>...</td>\n",
              "      <td>...</td>\n",
              "      <td>...</td>\n",
              "      <td>...</td>\n",
              "      <td>...</td>\n",
              "      <td>...</td>\n",
              "    </tr>\n",
              "    <tr>\n",
              "      <th>144</th>\n",
              "      <td>0.162162</td>\n",
              "      <td>0.000535</td>\n",
              "      <td>0.000541</td>\n",
              "      <td>0.000497</td>\n",
              "      <td>0.000502</td>\n",
              "      <td>0.760186</td>\n",
              "      <td>0.375425</td>\n",
              "      <td>0.132753</td>\n",
              "      <td>0.034048</td>\n",
              "      <td>0.000811</td>\n",
              "      <td>0.000713</td>\n",
              "      <td>0.213306</td>\n",
              "      <td>0.228413</td>\n",
              "      <td>0.0</td>\n",
              "    </tr>\n",
              "    <tr>\n",
              "      <th>145</th>\n",
              "      <td>0.567568</td>\n",
              "      <td>0.006256</td>\n",
              "      <td>0.006521</td>\n",
              "      <td>0.005714</td>\n",
              "      <td>0.005820</td>\n",
              "      <td>0.734147</td>\n",
              "      <td>0.351642</td>\n",
              "      <td>0.111262</td>\n",
              "      <td>0.320112</td>\n",
              "      <td>0.007970</td>\n",
              "      <td>0.006813</td>\n",
              "      <td>0.352981</td>\n",
              "      <td>0.280732</td>\n",
              "      <td>0.0</td>\n",
              "    </tr>\n",
              "    <tr>\n",
              "      <th>146</th>\n",
              "      <td>0.871622</td>\n",
              "      <td>0.006686</td>\n",
              "      <td>0.006635</td>\n",
              "      <td>0.006225</td>\n",
              "      <td>0.006311</td>\n",
              "      <td>0.731370</td>\n",
              "      <td>0.347112</td>\n",
              "      <td>0.014448</td>\n",
              "      <td>0.040957</td>\n",
              "      <td>0.008868</td>\n",
              "      <td>0.007501</td>\n",
              "      <td>0.316746</td>\n",
              "      <td>0.408975</td>\n",
              "      <td>0.0</td>\n",
              "    </tr>\n",
              "    <tr>\n",
              "      <th>147</th>\n",
              "      <td>0.344595</td>\n",
              "      <td>0.000248</td>\n",
              "      <td>0.000252</td>\n",
              "      <td>0.000230</td>\n",
              "      <td>0.000229</td>\n",
              "      <td>0.761142</td>\n",
              "      <td>0.300680</td>\n",
              "      <td>0.129840</td>\n",
              "      <td>0.016485</td>\n",
              "      <td>0.000053</td>\n",
              "      <td>0.000205</td>\n",
              "      <td>0.583245</td>\n",
              "      <td>0.417057</td>\n",
              "      <td>1.0</td>\n",
              "    </tr>\n",
              "    <tr>\n",
              "      <th>148</th>\n",
              "      <td>0.628378</td>\n",
              "      <td>0.007111</td>\n",
              "      <td>0.007190</td>\n",
              "      <td>0.006125</td>\n",
              "      <td>0.006289</td>\n",
              "      <td>0.701006</td>\n",
              "      <td>0.000000</td>\n",
              "      <td>0.042481</td>\n",
              "      <td>0.128232</td>\n",
              "      <td>0.007706</td>\n",
              "      <td>0.006950</td>\n",
              "      <td>0.447821</td>\n",
              "      <td>0.000000</td>\n",
              "      <td>0.0</td>\n",
              "    </tr>\n",
              "  </tbody>\n",
              "</table>\n",
              "<p>149 rows × 14 columns</p>\n",
              "</div>"
            ],
            "text/plain": [
              "       Symbol      Open      High  ...  365 Days % Change  30 Days % Change  target\n",
              "0    0.905405  0.029723  0.030943  ...           0.435694          0.406848     1.0\n",
              "1    0.432432  0.029291  0.029738  ...           0.484008          0.557848     1.0\n",
              "2    0.689189  0.219172  0.222723  ...           0.572084          0.527860     1.0\n",
              "3    0.912162  0.011344  0.011472  ...           0.448449          0.532114     1.0\n",
              "4    0.986486  0.003312  0.003326  ...           0.226060          0.316248     1.0\n",
              "..        ...       ...       ...  ...                ...               ...     ...\n",
              "144  0.162162  0.000535  0.000541  ...           0.213306          0.228413     0.0\n",
              "145  0.567568  0.006256  0.006521  ...           0.352981          0.280732     0.0\n",
              "146  0.871622  0.006686  0.006635  ...           0.316746          0.408975     0.0\n",
              "147  0.344595  0.000248  0.000252  ...           0.583245          0.417057     1.0\n",
              "148  0.628378  0.007111  0.007190  ...           0.447821          0.000000     0.0\n",
              "\n",
              "[149 rows x 14 columns]"
            ]
          },
          "metadata": {
            "tags": []
          },
          "execution_count": 12
        }
      ]
    },
    {
      "cell_type": "code",
      "metadata": {
        "id": "mYwfTp0bOpaY",
        "colab_type": "code",
        "colab": {}
      },
      "source": [
        "Y=x['target']"
      ],
      "execution_count": 0,
      "outputs": []
    },
    {
      "cell_type": "code",
      "metadata": {
        "id": "6BHcxERmOpaa",
        "colab_type": "code",
        "colab": {}
      },
      "source": [
        "X=x.drop(['target'],axis=1)"
      ],
      "execution_count": 0,
      "outputs": []
    },
    {
      "cell_type": "code",
      "metadata": {
        "id": "XZVZw0TWOpac",
        "colab_type": "code",
        "outputId": "8b256993-db0b-4337-c9d4-da596a375bba",
        "colab": {
          "base_uri": "https://localhost:8080/",
          "height": 455
        }
      },
      "source": [
        "X"
      ],
      "execution_count": 0,
      "outputs": [
        {
          "output_type": "execute_result",
          "data": {
            "text/html": [
              "<div>\n",
              "<style scoped>\n",
              "    .dataframe tbody tr th:only-of-type {\n",
              "        vertical-align: middle;\n",
              "    }\n",
              "\n",
              "    .dataframe tbody tr th {\n",
              "        vertical-align: top;\n",
              "    }\n",
              "\n",
              "    .dataframe thead th {\n",
              "        text-align: right;\n",
              "    }\n",
              "</style>\n",
              "<table border=\"1\" class=\"dataframe\">\n",
              "  <thead>\n",
              "    <tr style=\"text-align: right;\">\n",
              "      <th></th>\n",
              "      <th>Symbol</th>\n",
              "      <th>Open</th>\n",
              "      <th>High</th>\n",
              "      <th>Low</th>\n",
              "      <th>Last Traded Price</th>\n",
              "      <th>Change</th>\n",
              "      <th>%Change</th>\n",
              "      <th>Traded Volume(lacs)</th>\n",
              "      <th>Traded Value(crs)</th>\n",
              "      <th>52 Week High</th>\n",
              "      <th>52 Week Low</th>\n",
              "      <th>365 Days % Change</th>\n",
              "      <th>30 Days % Change</th>\n",
              "    </tr>\n",
              "  </thead>\n",
              "  <tbody>\n",
              "    <tr>\n",
              "      <th>0</th>\n",
              "      <td>0.905405</td>\n",
              "      <td>0.029723</td>\n",
              "      <td>0.030943</td>\n",
              "      <td>0.030090</td>\n",
              "      <td>0.031386</td>\n",
              "      <td>0.843356</td>\n",
              "      <td>1.000000</td>\n",
              "      <td>0.025552</td>\n",
              "      <td>0.363110</td>\n",
              "      <td>0.032051</td>\n",
              "      <td>0.036424</td>\n",
              "      <td>0.435694</td>\n",
              "      <td>0.406848</td>\n",
              "    </tr>\n",
              "    <tr>\n",
              "      <th>1</th>\n",
              "      <td>0.432432</td>\n",
              "      <td>0.029291</td>\n",
              "      <td>0.029738</td>\n",
              "      <td>0.029600</td>\n",
              "      <td>0.030028</td>\n",
              "      <td>0.799017</td>\n",
              "      <td>0.869762</td>\n",
              "      <td>0.020512</td>\n",
              "      <td>0.283356</td>\n",
              "      <td>0.030555</td>\n",
              "      <td>0.031940</td>\n",
              "      <td>0.484008</td>\n",
              "      <td>0.557848</td>\n",
              "    </tr>\n",
              "    <tr>\n",
              "      <th>2</th>\n",
              "      <td>0.689189</td>\n",
              "      <td>0.219172</td>\n",
              "      <td>0.222723</td>\n",
              "      <td>0.221895</td>\n",
              "      <td>0.226651</td>\n",
              "      <td>1.000000</td>\n",
              "      <td>0.855606</td>\n",
              "      <td>0.000293</td>\n",
              "      <td>0.030666</td>\n",
              "      <td>0.223711</td>\n",
              "      <td>0.194426</td>\n",
              "      <td>0.572084</td>\n",
              "      <td>0.527860</td>\n",
              "    </tr>\n",
              "    <tr>\n",
              "      <th>3</th>\n",
              "      <td>0.912162</td>\n",
              "      <td>0.011344</td>\n",
              "      <td>0.011472</td>\n",
              "      <td>0.011117</td>\n",
              "      <td>0.011638</td>\n",
              "      <td>0.772295</td>\n",
              "      <td>0.833522</td>\n",
              "      <td>0.049879</td>\n",
              "      <td>0.262929</td>\n",
              "      <td>0.011626</td>\n",
              "      <td>0.011724</td>\n",
              "      <td>0.448449</td>\n",
              "      <td>0.532114</td>\n",
              "    </tr>\n",
              "    <tr>\n",
              "      <th>4</th>\n",
              "      <td>0.986486</td>\n",
              "      <td>0.003312</td>\n",
              "      <td>0.003326</td>\n",
              "      <td>0.003349</td>\n",
              "      <td>0.003366</td>\n",
              "      <td>0.763145</td>\n",
              "      <td>0.767837</td>\n",
              "      <td>0.016159</td>\n",
              "      <td>0.022669</td>\n",
              "      <td>0.003949</td>\n",
              "      <td>0.004455</td>\n",
              "      <td>0.226060</td>\n",
              "      <td>0.316248</td>\n",
              "    </tr>\n",
              "    <tr>\n",
              "      <th>...</th>\n",
              "      <td>...</td>\n",
              "      <td>...</td>\n",
              "      <td>...</td>\n",
              "      <td>...</td>\n",
              "      <td>...</td>\n",
              "      <td>...</td>\n",
              "      <td>...</td>\n",
              "      <td>...</td>\n",
              "      <td>...</td>\n",
              "      <td>...</td>\n",
              "      <td>...</td>\n",
              "      <td>...</td>\n",
              "      <td>...</td>\n",
              "    </tr>\n",
              "    <tr>\n",
              "      <th>144</th>\n",
              "      <td>0.162162</td>\n",
              "      <td>0.000535</td>\n",
              "      <td>0.000541</td>\n",
              "      <td>0.000497</td>\n",
              "      <td>0.000502</td>\n",
              "      <td>0.760186</td>\n",
              "      <td>0.375425</td>\n",
              "      <td>0.132753</td>\n",
              "      <td>0.034048</td>\n",
              "      <td>0.000811</td>\n",
              "      <td>0.000713</td>\n",
              "      <td>0.213306</td>\n",
              "      <td>0.228413</td>\n",
              "    </tr>\n",
              "    <tr>\n",
              "      <th>145</th>\n",
              "      <td>0.567568</td>\n",
              "      <td>0.006256</td>\n",
              "      <td>0.006521</td>\n",
              "      <td>0.005714</td>\n",
              "      <td>0.005820</td>\n",
              "      <td>0.734147</td>\n",
              "      <td>0.351642</td>\n",
              "      <td>0.111262</td>\n",
              "      <td>0.320112</td>\n",
              "      <td>0.007970</td>\n",
              "      <td>0.006813</td>\n",
              "      <td>0.352981</td>\n",
              "      <td>0.280732</td>\n",
              "    </tr>\n",
              "    <tr>\n",
              "      <th>146</th>\n",
              "      <td>0.871622</td>\n",
              "      <td>0.006686</td>\n",
              "      <td>0.006635</td>\n",
              "      <td>0.006225</td>\n",
              "      <td>0.006311</td>\n",
              "      <td>0.731370</td>\n",
              "      <td>0.347112</td>\n",
              "      <td>0.014448</td>\n",
              "      <td>0.040957</td>\n",
              "      <td>0.008868</td>\n",
              "      <td>0.007501</td>\n",
              "      <td>0.316746</td>\n",
              "      <td>0.408975</td>\n",
              "    </tr>\n",
              "    <tr>\n",
              "      <th>147</th>\n",
              "      <td>0.344595</td>\n",
              "      <td>0.000248</td>\n",
              "      <td>0.000252</td>\n",
              "      <td>0.000230</td>\n",
              "      <td>0.000229</td>\n",
              "      <td>0.761142</td>\n",
              "      <td>0.300680</td>\n",
              "      <td>0.129840</td>\n",
              "      <td>0.016485</td>\n",
              "      <td>0.000053</td>\n",
              "      <td>0.000205</td>\n",
              "      <td>0.583245</td>\n",
              "      <td>0.417057</td>\n",
              "    </tr>\n",
              "    <tr>\n",
              "      <th>148</th>\n",
              "      <td>0.628378</td>\n",
              "      <td>0.007111</td>\n",
              "      <td>0.007190</td>\n",
              "      <td>0.006125</td>\n",
              "      <td>0.006289</td>\n",
              "      <td>0.701006</td>\n",
              "      <td>0.000000</td>\n",
              "      <td>0.042481</td>\n",
              "      <td>0.128232</td>\n",
              "      <td>0.007706</td>\n",
              "      <td>0.006950</td>\n",
              "      <td>0.447821</td>\n",
              "      <td>0.000000</td>\n",
              "    </tr>\n",
              "  </tbody>\n",
              "</table>\n",
              "<p>149 rows × 13 columns</p>\n",
              "</div>"
            ],
            "text/plain": [
              "       Symbol      Open  ...  365 Days % Change  30 Days % Change\n",
              "0    0.905405  0.029723  ...           0.435694          0.406848\n",
              "1    0.432432  0.029291  ...           0.484008          0.557848\n",
              "2    0.689189  0.219172  ...           0.572084          0.527860\n",
              "3    0.912162  0.011344  ...           0.448449          0.532114\n",
              "4    0.986486  0.003312  ...           0.226060          0.316248\n",
              "..        ...       ...  ...                ...               ...\n",
              "144  0.162162  0.000535  ...           0.213306          0.228413\n",
              "145  0.567568  0.006256  ...           0.352981          0.280732\n",
              "146  0.871622  0.006686  ...           0.316746          0.408975\n",
              "147  0.344595  0.000248  ...           0.583245          0.417057\n",
              "148  0.628378  0.007111  ...           0.447821          0.000000\n",
              "\n",
              "[149 rows x 13 columns]"
            ]
          },
          "metadata": {
            "tags": []
          },
          "execution_count": 15
        }
      ]
    },
    {
      "cell_type": "code",
      "metadata": {
        "id": "SGhH6562Opaf",
        "colab_type": "code",
        "colab": {}
      },
      "source": [
        "x_train,x_test,y_train,y_test=train_test_split(X,Y,test_size=0.2)"
      ],
      "execution_count": 0,
      "outputs": []
    },
    {
      "cell_type": "code",
      "metadata": {
        "id": "UPJi_A_yOpaj",
        "colab_type": "code",
        "colab": {}
      },
      "source": [
        "from sklearn import svm\n",
        "svm_model=svm.SVC(kernel='linear')"
      ],
      "execution_count": 0,
      "outputs": []
    },
    {
      "cell_type": "code",
      "metadata": {
        "id": "xEqbXDkDOpan",
        "colab_type": "code",
        "outputId": "5e2379fe-258a-42aa-8da4-0fdaa9a72ae6",
        "colab": {
          "base_uri": "https://localhost:8080/",
          "height": 87
        }
      },
      "source": [
        "svm_model"
      ],
      "execution_count": 0,
      "outputs": [
        {
          "output_type": "execute_result",
          "data": {
            "text/plain": [
              "SVC(C=1.0, break_ties=False, cache_size=200, class_weight=None, coef0=0.0,\n",
              "    decision_function_shape='ovr', degree=3, gamma='scale', kernel='linear',\n",
              "    max_iter=-1, probability=False, random_state=None, shrinking=True,\n",
              "    tol=0.001, verbose=False)"
            ]
          },
          "metadata": {
            "tags": []
          },
          "execution_count": 18
        }
      ]
    },
    {
      "cell_type": "code",
      "metadata": {
        "id": "ePYdRs9tOpaq",
        "colab_type": "code",
        "colab": {}
      },
      "source": [
        "md=svm_model.fit(x_train,y_train)"
      ],
      "execution_count": 0,
      "outputs": []
    },
    {
      "cell_type": "code",
      "metadata": {
        "id": "9rxYOh75Opar",
        "colab_type": "code",
        "colab": {}
      },
      "source": [
        "y_test_pred=svm_model.predict(x_test)"
      ],
      "execution_count": 0,
      "outputs": []
    },
    {
      "cell_type": "code",
      "metadata": {
        "id": "NNtMou30Opat",
        "colab_type": "code",
        "colab": {}
      },
      "source": [
        "from sklearn import metrics"
      ],
      "execution_count": 0,
      "outputs": []
    },
    {
      "cell_type": "code",
      "metadata": {
        "id": "E0hyIphTOpav",
        "colab_type": "code",
        "outputId": "65d9646a-2e42-4d18-8a05-c6f9bf8b10d0",
        "colab": {
          "base_uri": "https://localhost:8080/",
          "height": 34
        }
      },
      "source": [
        "metrics.accuracy_score(y_test_pred,y_test)"
      ],
      "execution_count": 0,
      "outputs": [
        {
          "output_type": "execute_result",
          "data": {
            "text/plain": [
              "0.7666666666666667"
            ]
          },
          "metadata": {
            "tags": []
          },
          "execution_count": 22
        }
      ]
    },
    {
      "cell_type": "code",
      "metadata": {
        "id": "nkJhlE5ZOpay",
        "colab_type": "code",
        "outputId": "0ddc3f35-6c6e-45d4-cdc0-29da65d439c8",
        "colab": {
          "base_uri": "https://localhost:8080/",
          "height": 70
        }
      },
      "source": [
        "y_test.value_counts(normalize=True)"
      ],
      "execution_count": 0,
      "outputs": [
        {
          "output_type": "execute_result",
          "data": {
            "text/plain": [
              "1.0    0.666667\n",
              "0.0    0.333333\n",
              "Name: target, dtype: float64"
            ]
          },
          "metadata": {
            "tags": []
          },
          "execution_count": 23
        }
      ]
    },
    {
      "cell_type": "code",
      "metadata": {
        "id": "mK1nPiFROpa0",
        "colab_type": "code",
        "outputId": "31541a42-58ee-468b-994a-9e717f3ec7c4",
        "colab": {
          "base_uri": "https://localhost:8080/",
          "height": 70
        }
      },
      "source": [
        "svm_model.coef_"
      ],
      "execution_count": 0,
      "outputs": [
        {
          "output_type": "execute_result",
          "data": {
            "text/plain": [
              "array([[ 0.29264217, -0.03527136, -0.02882478, -0.04120297, -0.03939235,\n",
              "        -0.2997934 ,  0.30673891, -0.1102254 ,  0.99565835, -0.10798232,\n",
              "        -0.10400606,  2.67864894,  3.87564067]])"
            ]
          },
          "metadata": {
            "tags": []
          },
          "execution_count": 24
        }
      ]
    },
    {
      "cell_type": "code",
      "metadata": {
        "id": "GJiBGQklOpa2",
        "colab_type": "code",
        "outputId": "a3697df4-6a9b-43f6-8bf9-964158bd3b26",
        "colab": {
          "base_uri": "https://localhost:8080/",
          "height": 107
        }
      },
      "source": [
        "svm_model.decision_function"
      ],
      "execution_count": 0,
      "outputs": [
        {
          "output_type": "execute_result",
          "data": {
            "text/plain": [
              "<bound method BaseSVC.decision_function of SVC(C=1.0, break_ties=False, cache_size=200, class_weight=None, coef0=0.0,\n",
              "    decision_function_shape='ovr', degree=3, gamma='scale', kernel='linear',\n",
              "    max_iter=-1, probability=False, random_state=None, shrinking=True,\n",
              "    tol=0.001, verbose=False)>"
            ]
          },
          "metadata": {
            "tags": []
          },
          "execution_count": 25
        }
      ]
    },
    {
      "cell_type": "code",
      "metadata": {
        "id": "43_5SlfdOpa4",
        "colab_type": "code",
        "outputId": "2b951342-b00a-4cba-ccd1-c9a2eac1b4fb",
        "colab": {
          "base_uri": "https://localhost:8080/",
          "height": 122
        }
      },
      "source": [
        "hyperplanedist=svm_model.decision_function(x_test)\n",
        "hyperplanedist"
      ],
      "execution_count": 0,
      "outputs": [
        {
          "output_type": "execute_result",
          "data": {
            "text/plain": [
              "array([ 0.84455374, -0.26388941,  1.39683405,  1.7193093 ,  1.34786397,\n",
              "        0.32418052,  0.26890592,  0.70961162,  0.9548    , -1.21217296,\n",
              "        1.49009129, -1.43597311, -0.09940362, -0.57320759, -0.83137463,\n",
              "       -0.53101024,  0.27127545,  0.59590667,  0.82569533, -1.18538688,\n",
              "        0.528789  , -0.93449253,  1.36010513, -0.23558403, -0.19390321,\n",
              "        1.32978422,  1.60283902, -0.43384212,  0.37932545, -1.932666  ])"
            ]
          },
          "metadata": {
            "tags": []
          },
          "execution_count": 26
        }
      ]
    },
    {
      "cell_type": "code",
      "metadata": {
        "id": "CK8ktQBlOpa6",
        "colab_type": "code",
        "outputId": "07a9c2a0-6547-4a2a-aaba-f9ea68548e20",
        "colab": {
          "base_uri": "https://localhost:8080/",
          "height": 195
        }
      },
      "source": [
        "comp=pd.DataFrame()\n",
        "comp['pred']=y_test_pred\n",
        "comp['dist']=hyperplanedist\n",
        "comp.head()"
      ],
      "execution_count": 0,
      "outputs": [
        {
          "output_type": "execute_result",
          "data": {
            "text/html": [
              "<div>\n",
              "<style scoped>\n",
              "    .dataframe tbody tr th:only-of-type {\n",
              "        vertical-align: middle;\n",
              "    }\n",
              "\n",
              "    .dataframe tbody tr th {\n",
              "        vertical-align: top;\n",
              "    }\n",
              "\n",
              "    .dataframe thead th {\n",
              "        text-align: right;\n",
              "    }\n",
              "</style>\n",
              "<table border=\"1\" class=\"dataframe\">\n",
              "  <thead>\n",
              "    <tr style=\"text-align: right;\">\n",
              "      <th></th>\n",
              "      <th>pred</th>\n",
              "      <th>dist</th>\n",
              "    </tr>\n",
              "  </thead>\n",
              "  <tbody>\n",
              "    <tr>\n",
              "      <th>0</th>\n",
              "      <td>1.0</td>\n",
              "      <td>0.844554</td>\n",
              "    </tr>\n",
              "    <tr>\n",
              "      <th>1</th>\n",
              "      <td>0.0</td>\n",
              "      <td>-0.263889</td>\n",
              "    </tr>\n",
              "    <tr>\n",
              "      <th>2</th>\n",
              "      <td>1.0</td>\n",
              "      <td>1.396834</td>\n",
              "    </tr>\n",
              "    <tr>\n",
              "      <th>3</th>\n",
              "      <td>1.0</td>\n",
              "      <td>1.719309</td>\n",
              "    </tr>\n",
              "    <tr>\n",
              "      <th>4</th>\n",
              "      <td>1.0</td>\n",
              "      <td>1.347864</td>\n",
              "    </tr>\n",
              "  </tbody>\n",
              "</table>\n",
              "</div>"
            ],
            "text/plain": [
              "   pred      dist\n",
              "0   1.0  0.844554\n",
              "1   0.0 -0.263889\n",
              "2   1.0  1.396834\n",
              "3   1.0  1.719309\n",
              "4   1.0  1.347864"
            ]
          },
          "metadata": {
            "tags": []
          },
          "execution_count": 27
        }
      ]
    },
    {
      "cell_type": "code",
      "metadata": {
        "id": "ThV2ehl1Opa8",
        "colab_type": "code",
        "colab": {}
      },
      "source": [
        "from sklearn.model_selection import GridSearchCV"
      ],
      "execution_count": 0,
      "outputs": []
    },
    {
      "cell_type": "code",
      "metadata": {
        "id": "Rx_GMH-4Opa-",
        "colab_type": "code",
        "outputId": "912b1553-6f4b-4a80-aa6b-f3844c830551",
        "colab": {
          "base_uri": "https://localhost:8080/",
          "height": 34
        }
      },
      "source": [
        "from sklearn import svm\n",
        "param_grid = {'C': [0.001, 0.01, 0.1, 1, 10], 'gamma' :[0.001, 0.01, 0.1, 1] }\n",
        "grid_search = GridSearchCV(svm.SVC(kernel='linear'), param_grid, cv=5)\n",
        "grid_search.fit(x_train, y_train)\n",
        "grid_search.best_params_"
      ],
      "execution_count": 0,
      "outputs": [
        {
          "output_type": "execute_result",
          "data": {
            "text/plain": [
              "{'C': 10, 'gamma': 0.001}"
            ]
          },
          "metadata": {
            "tags": []
          },
          "execution_count": 29
        }
      ]
    },
    {
      "cell_type": "code",
      "metadata": {
        "id": "Df18eTtQOpbA",
        "colab_type": "code",
        "colab": {}
      },
      "source": [
        "finalmodel=grid_search.best_estimator_"
      ],
      "execution_count": 0,
      "outputs": []
    },
    {
      "cell_type": "code",
      "metadata": {
        "id": "nF-6r2gaOpbD",
        "colab_type": "code",
        "colab": {}
      },
      "source": [
        "y_pred_model=finalmodel.predict(x_test)"
      ],
      "execution_count": 0,
      "outputs": []
    },
    {
      "cell_type": "code",
      "metadata": {
        "id": "WWf3Pr2wOpbH",
        "colab_type": "code",
        "outputId": "7acccfc4-c6cd-4aca-9004-c607143aaa50",
        "colab": {
          "base_uri": "https://localhost:8080/",
          "height": 34
        }
      },
      "source": [
        "metrics.accuracy_score(y_pred_model,y_test)"
      ],
      "execution_count": 0,
      "outputs": [
        {
          "output_type": "execute_result",
          "data": {
            "text/plain": [
              "0.7333333333333333"
            ]
          },
          "metadata": {
            "tags": []
          },
          "execution_count": 32
        }
      ]
    },
    {
      "cell_type": "code",
      "metadata": {
        "id": "kUDl3jITOpbJ",
        "colab_type": "code",
        "outputId": "cfb41090-7980-4799-dd39-efeac6584f44",
        "colab": {
          "base_uri": "https://localhost:8080/",
          "height": 281
        }
      },
      "source": [
        "\n",
        "from sklearn.pipeline import FeatureUnion\n",
        "from sklearn.decomposition import PCA\n",
        "from sklearn.decomposition import KernelPCA\n",
        "estimators = [('linear_pca', PCA()), ('kernel_pca', KernelPCA())]\n",
        "combined = FeatureUnion(estimators)\n",
        "combined"
      ],
      "execution_count": 0,
      "outputs": [
        {
          "output_type": "execute_result",
          "data": {
            "text/plain": [
              "FeatureUnion(n_jobs=None,\n",
              "             transformer_list=[('linear_pca',\n",
              "                                PCA(copy=True, iterated_power='auto',\n",
              "                                    n_components=None, random_state=None,\n",
              "                                    svd_solver='auto', tol=0.0, whiten=False)),\n",
              "                               ('kernel_pca',\n",
              "                                KernelPCA(alpha=1.0, coef0=1, copy_X=True,\n",
              "                                          degree=3, eigen_solver='auto',\n",
              "                                          fit_inverse_transform=False,\n",
              "                                          gamma=None, kernel='linear',\n",
              "                                          kernel_params=None, max_iter=None,\n",
              "                                          n_components=None, n_jobs=None,\n",
              "                                          random_state=None,\n",
              "                                          remove_zero_eig=False, tol=0))],\n",
              "             transformer_weights=None, verbose=False)"
            ]
          },
          "metadata": {
            "tags": []
          },
          "execution_count": 35
        }
      ]
    },
    {
      "cell_type": "code",
      "metadata": {
        "id": "J1103f0zOpbL",
        "colab_type": "code",
        "colab": {}
      },
      "source": [
        "\n",
        "from sklearn.pipeline import Pipeline\n",
        "\n",
        "Pipeline?"
      ],
      "execution_count": 0,
      "outputs": []
    },
    {
      "cell_type": "code",
      "metadata": {
        "id": "jSV8SX1rOpbN",
        "colab_type": "code",
        "outputId": "b5a44b76-bbc6-4681-c7b6-ea15169054d5",
        "colab": {
          "base_uri": "https://localhost:8080/",
          "height": 228
        }
      },
      "source": [
        "from sklearn.svm import SVC\n",
        "from sklearn.decomposition import PCA\n",
        "estimators = [('reduce_dim', PCA(n_components=2)), ('clf', SVC())]\n",
        "pipe = Pipeline(estimators)\n",
        "pipe\n"
      ],
      "execution_count": 0,
      "outputs": [
        {
          "output_type": "execute_result",
          "data": {
            "text/plain": [
              "Pipeline(memory=None,\n",
              "         steps=[('reduce_dim',\n",
              "                 PCA(copy=True, iterated_power='auto', n_components=2,\n",
              "                     random_state=None, svd_solver='auto', tol=0.0,\n",
              "                     whiten=False)),\n",
              "                ('clf',\n",
              "                 SVC(C=1.0, break_ties=False, cache_size=200, class_weight=None,\n",
              "                     coef0=0.0, decision_function_shape='ovr', degree=3,\n",
              "                     gamma='scale', kernel='rbf', max_iter=-1,\n",
              "                     probability=False, random_state=None, shrinking=True,\n",
              "                     tol=0.001, verbose=False))],\n",
              "         verbose=False)"
            ]
          },
          "metadata": {
            "tags": []
          },
          "execution_count": 37
        }
      ]
    },
    {
      "cell_type": "code",
      "metadata": {
        "id": "bQcPF3iTOpbP",
        "colab_type": "code",
        "outputId": "c7cb4db9-963f-4476-92af-4633c9ebc689",
        "colab": {
          "base_uri": "https://localhost:8080/",
          "height": 34
        }
      },
      "source": [
        "pipe.fit(x_train,y_train).score(x_train,y_train)"
      ],
      "execution_count": 0,
      "outputs": [
        {
          "output_type": "execute_result",
          "data": {
            "text/plain": [
              "0.7899159663865546"
            ]
          },
          "metadata": {
            "tags": []
          },
          "execution_count": 38
        }
      ]
    },
    {
      "cell_type": "code",
      "metadata": {
        "id": "ewixLYfzOpbR",
        "colab_type": "code",
        "outputId": "ef86e61a-8d33-487b-a89e-6bca3e72dae5",
        "colab": {
          "base_uri": "https://localhost:8080/",
          "height": 105
        }
      },
      "source": [
        "from sklearn.pipeline import make_pipeline\n",
        "from sklearn.naive_bayes import MultinomialNB\n",
        "from sklearn.preprocessing import Binarizer\n",
        "make_pipeline(Binarizer(), MultinomialNB())"
      ],
      "execution_count": 0,
      "outputs": [
        {
          "output_type": "execute_result",
          "data": {
            "text/plain": [
              "Pipeline(memory=None,\n",
              "         steps=[('binarizer', Binarizer(copy=True, threshold=0.0)),\n",
              "                ('multinomialnb',\n",
              "                 MultinomialNB(alpha=1.0, class_prior=None, fit_prior=True))],\n",
              "         verbose=False)"
            ]
          },
          "metadata": {
            "tags": []
          },
          "execution_count": 39
        }
      ]
    },
    {
      "cell_type": "code",
      "metadata": {
        "id": "WyHjU4g4OpbT",
        "colab_type": "code",
        "outputId": "b66e64dc-8523-48d2-f686-91d8e904b601",
        "colab": {
          "base_uri": "https://localhost:8080/",
          "height": 70
        }
      },
      "source": [
        "pipe.steps[0]"
      ],
      "execution_count": 0,
      "outputs": [
        {
          "output_type": "execute_result",
          "data": {
            "text/plain": [
              "('reduce_dim',\n",
              " PCA(copy=True, iterated_power='auto', n_components=2, random_state=None,\n",
              "     svd_solver='auto', tol=0.0, whiten=False))"
            ]
          },
          "metadata": {
            "tags": []
          },
          "execution_count": 40
        }
      ]
    },
    {
      "cell_type": "code",
      "metadata": {
        "id": "vi6w2cfuOpbW",
        "colab_type": "code",
        "outputId": "ca13de6f-7409-4685-ac23-864c3e206069",
        "colab": {
          "base_uri": "https://localhost:8080/",
          "height": 52
        }
      },
      "source": [
        "pipe.named_steps['reduce_dim']"
      ],
      "execution_count": 0,
      "outputs": [
        {
          "output_type": "execute_result",
          "data": {
            "text/plain": [
              "PCA(copy=True, iterated_power='auto', n_components=2, random_state=None,\n",
              "    svd_solver='auto', tol=0.0, whiten=False)"
            ]
          },
          "metadata": {
            "tags": []
          },
          "execution_count": 41
        }
      ]
    },
    {
      "cell_type": "code",
      "metadata": {
        "id": "NVC8kp7tOpbX",
        "colab_type": "code",
        "outputId": "bb2a028c-51aa-4ef6-85ea-fabe27adf76c",
        "colab": {
          "base_uri": "https://localhost:8080/",
          "height": 228
        }
      },
      "source": [
        "pipe.set_params(clf__C=10)"
      ],
      "execution_count": 0,
      "outputs": [
        {
          "output_type": "execute_result",
          "data": {
            "text/plain": [
              "Pipeline(memory=None,\n",
              "         steps=[('reduce_dim',\n",
              "                 PCA(copy=True, iterated_power='auto', n_components=2,\n",
              "                     random_state=None, svd_solver='auto', tol=0.0,\n",
              "                     whiten=False)),\n",
              "                ('clf',\n",
              "                 SVC(C=10, break_ties=False, cache_size=200, class_weight=None,\n",
              "                     coef0=0.0, decision_function_shape='ovr', degree=3,\n",
              "                     gamma='scale', kernel='rbf', max_iter=-1,\n",
              "                     probability=False, random_state=None, shrinking=True,\n",
              "                     tol=0.001, verbose=False))],\n",
              "         verbose=False)"
            ]
          },
          "metadata": {
            "tags": []
          },
          "execution_count": 42
        }
      ]
    },
    {
      "cell_type": "code",
      "metadata": {
        "id": "aNnHoDFZOpbZ",
        "colab_type": "code",
        "colab": {}
      },
      "source": [
        "from sklearn.model_selection import GridSearchCV\n",
        "params = dict(reduce_dim__n_components=[2, 5, 10],\n",
        "              clf__C=[0.1, 10, 100])\n",
        "grid_search = GridSearchCV(pipe, param_grid=params)"
      ],
      "execution_count": 0,
      "outputs": []
    },
    {
      "cell_type": "code",
      "metadata": {
        "id": "0apxGwpcQP2B",
        "colab_type": "code",
        "colab": {}
      },
      "source": [
        "from sklearn.linear_model import LogisticRegression\n",
        "params = dict(reduce_dim=[None, PCA(5), PCA(10)],\n",
        "              clf=[SVC(), LogisticRegression()],\n",
        "              clf__C=[0.1, 10, 100])\n",
        "grid_search = GridSearchCV(pipe, param_grid=params)"
      ],
      "execution_count": 0,
      "outputs": []
    },
    {
      "cell_type": "code",
      "metadata": {
        "id": "h1YQsUV-Qhle",
        "colab_type": "code",
        "outputId": "0a91e7c9-802a-44e2-d73b-77f0c5b47729",
        "colab": {
          "base_uri": "https://localhost:8080/",
          "height": 281
        }
      },
      "source": [
        "from sklearn.pipeline import FeatureUnion\n",
        "from sklearn.decomposition import PCA\n",
        "from sklearn.decomposition import KernelPCA\n",
        "estimators = [('linear_pca', PCA()), ('kernel_pca', KernelPCA())]\n",
        "combined = FeatureUnion(estimators)\n",
        "combined"
      ],
      "execution_count": 0,
      "outputs": [
        {
          "output_type": "execute_result",
          "data": {
            "text/plain": [
              "FeatureUnion(n_jobs=None,\n",
              "             transformer_list=[('linear_pca',\n",
              "                                PCA(copy=True, iterated_power='auto',\n",
              "                                    n_components=None, random_state=None,\n",
              "                                    svd_solver='auto', tol=0.0, whiten=False)),\n",
              "                               ('kernel_pca',\n",
              "                                KernelPCA(alpha=1.0, coef0=1, copy_X=True,\n",
              "                                          degree=3, eigen_solver='auto',\n",
              "                                          fit_inverse_transform=False,\n",
              "                                          gamma=None, kernel='linear',\n",
              "                                          kernel_params=None, max_iter=None,\n",
              "                                          n_components=None, n_jobs=None,\n",
              "                                          random_state=None,\n",
              "                                          remove_zero_eig=False, tol=0))],\n",
              "             transformer_weights=None, verbose=False)"
            ]
          },
          "metadata": {
            "tags": []
          },
          "execution_count": 45
        }
      ]
    },
    {
      "cell_type": "code",
      "metadata": {
        "id": "fmGs4aW0QmIo",
        "colab_type": "code",
        "outputId": "02277f13-8d74-47de-e0db-65ca647fdb43",
        "colab": {
          "base_uri": "https://localhost:8080/",
          "height": 34
        }
      },
      "source": [
        "combined.fit_transform(X).shape"
      ],
      "execution_count": 0,
      "outputs": [
        {
          "output_type": "execute_result",
          "data": {
            "text/plain": [
              "(149, 26)"
            ]
          },
          "metadata": {
            "tags": []
          },
          "execution_count": 46
        }
      ]
    },
    {
      "cell_type": "code",
      "metadata": {
        "id": "_FHwefRkQxjf",
        "colab_type": "code",
        "outputId": "036f9553-ba86-481a-eb6b-1df7c4d9044a",
        "colab": {
          "base_uri": "https://localhost:8080/",
          "height": 140
        }
      },
      "source": [
        "\n",
        "combined.set_params(kernel_pca=None)"
      ],
      "execution_count": 0,
      "outputs": [
        {
          "output_type": "execute_result",
          "data": {
            "text/plain": [
              "FeatureUnion(n_jobs=None,\n",
              "             transformer_list=[('linear_pca',\n",
              "                                PCA(copy=True, iterated_power='auto',\n",
              "                                    n_components=None, random_state=None,\n",
              "                                    svd_solver='auto', tol=0.0, whiten=False)),\n",
              "                               ('kernel_pca', None)],\n",
              "             transformer_weights=None, verbose=False)"
            ]
          },
          "metadata": {
            "tags": []
          },
          "execution_count": 47
        }
      ]
    },
    {
      "cell_type": "code",
      "metadata": {
        "id": "iKUr4ZJoQ0Wu",
        "colab_type": "code",
        "outputId": "02a3ee0c-b8b1-454b-9204-ece90538013a",
        "colab": {
          "base_uri": "https://localhost:8080/",
          "height": 90
        }
      },
      "source": [
        "\n",
        "combined.fit_transform(X).shape"
      ],
      "execution_count": 0,
      "outputs": [
        {
          "output_type": "stream",
          "text": [
            "/usr/local/lib/python3.6/dist-packages/sklearn/pipeline.py:857: FutureWarning: Using None as a transformer is deprecated in version 0.22 and will be removed in version 0.24. Please use 'drop' instead.\n",
            "  FutureWarning)\n"
          ],
          "name": "stderr"
        },
        {
          "output_type": "execute_result",
          "data": {
            "text/plain": [
              "(149, 13)"
            ]
          },
          "metadata": {
            "tags": []
          },
          "execution_count": 48
        }
      ]
    },
    {
      "cell_type": "code",
      "metadata": {
        "id": "DAQcmwVGQ3Q4",
        "colab_type": "code",
        "colab": {}
      },
      "source": [
        ""
      ],
      "execution_count": 0,
      "outputs": []
    }
  ]
}